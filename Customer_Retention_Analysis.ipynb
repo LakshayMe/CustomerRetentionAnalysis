{
 "cells": [
  {
   "cell_type": "code",
   "execution_count": 5,
   "id": "3908f7a5",
   "metadata": {},
   "outputs": [],
   "source": [
    "from faker import Faker"
   ]
  },
  {
   "cell_type": "code",
   "execution_count": 6,
   "id": "11ff906e",
   "metadata": {},
   "outputs": [],
   "source": [
    "import pandas as pd\n",
    "import numpy as np"
   ]
  },
  {
   "cell_type": "code",
   "execution_count": 8,
   "id": "96a93f3e",
   "metadata": {},
   "outputs": [],
   "source": [
    "fake = Faker()\n",
    "Faker.seed(0)"
   ]
  },
  {
   "cell_type": "code",
   "execution_count": 9,
   "id": "bf2c56de",
   "metadata": {},
   "outputs": [],
   "source": [
    "data = {\n",
    "    'customer_id': [fake.unique.random_int(min=1, max=1000) for _ in range(1000)],\n",
    "    'age': [fake.random_int(min=18, max=70) for _ in range(1000)],\n",
    "    'gender': [fake.random_element(elements=('Male', 'Female')) for _ in range(1000)],\n",
    "    'annual_income': [fake.random_int(min=20000, max=100000) for _ in range(1000)],\n",
    "    'purchase_frequency': [fake.random_int(min=1, max=20) for _ in range(1000)],\n",
    "    'average_purchase_value': [fake.random_int(min=10, max=500) for _ in range(1000)],\n",
    "    'churn': [fake.random_element(elements=(0, 1)) for _ in range(1000)]\n",
    "}"
   ]
  },
  {
   "cell_type": "code",
   "execution_count": 10,
   "id": "89ff81bf",
   "metadata": {},
   "outputs": [
    {
     "data": {
      "text/html": [
       "<div>\n",
       "<style scoped>\n",
       "    .dataframe tbody tr th:only-of-type {\n",
       "        vertical-align: middle;\n",
       "    }\n",
       "\n",
       "    .dataframe tbody tr th {\n",
       "        vertical-align: top;\n",
       "    }\n",
       "\n",
       "    .dataframe thead th {\n",
       "        text-align: right;\n",
       "    }\n",
       "</style>\n",
       "<table border=\"1\" class=\"dataframe\">\n",
       "  <thead>\n",
       "    <tr style=\"text-align: right;\">\n",
       "      <th></th>\n",
       "      <th>customer_id</th>\n",
       "      <th>age</th>\n",
       "      <th>gender</th>\n",
       "      <th>annual_income</th>\n",
       "      <th>purchase_frequency</th>\n",
       "      <th>average_purchase_value</th>\n",
       "      <th>churn</th>\n",
       "    </tr>\n",
       "  </thead>\n",
       "  <tbody>\n",
       "    <tr>\n",
       "      <th>0</th>\n",
       "      <td>865</td>\n",
       "      <td>42</td>\n",
       "      <td>Male</td>\n",
       "      <td>35203</td>\n",
       "      <td>4</td>\n",
       "      <td>198</td>\n",
       "      <td>0</td>\n",
       "    </tr>\n",
       "    <tr>\n",
       "      <th>1</th>\n",
       "      <td>395</td>\n",
       "      <td>63</td>\n",
       "      <td>Male</td>\n",
       "      <td>22208</td>\n",
       "      <td>3</td>\n",
       "      <td>450</td>\n",
       "      <td>0</td>\n",
       "    </tr>\n",
       "    <tr>\n",
       "      <th>2</th>\n",
       "      <td>777</td>\n",
       "      <td>21</td>\n",
       "      <td>Female</td>\n",
       "      <td>47137</td>\n",
       "      <td>2</td>\n",
       "      <td>50</td>\n",
       "      <td>0</td>\n",
       "    </tr>\n",
       "    <tr>\n",
       "      <th>3</th>\n",
       "      <td>912</td>\n",
       "      <td>40</td>\n",
       "      <td>Male</td>\n",
       "      <td>59052</td>\n",
       "      <td>7</td>\n",
       "      <td>279</td>\n",
       "      <td>1</td>\n",
       "    </tr>\n",
       "    <tr>\n",
       "      <th>4</th>\n",
       "      <td>431</td>\n",
       "      <td>39</td>\n",
       "      <td>Male</td>\n",
       "      <td>29779</td>\n",
       "      <td>8</td>\n",
       "      <td>137</td>\n",
       "      <td>0</td>\n",
       "    </tr>\n",
       "  </tbody>\n",
       "</table>\n",
       "</div>"
      ],
      "text/plain": [
       "   customer_id  age  gender  annual_income  purchase_frequency  \\\n",
       "0          865   42    Male          35203                   4   \n",
       "1          395   63    Male          22208                   3   \n",
       "2          777   21  Female          47137                   2   \n",
       "3          912   40    Male          59052                   7   \n",
       "4          431   39    Male          29779                   8   \n",
       "\n",
       "   average_purchase_value  churn  \n",
       "0                     198      0  \n",
       "1                     450      0  \n",
       "2                      50      0  \n",
       "3                     279      1  \n",
       "4                     137      0  "
      ]
     },
     "execution_count": 10,
     "metadata": {},
     "output_type": "execute_result"
    }
   ],
   "source": [
    "df = pd.DataFrame(data)\n",
    "df.head()"
   ]
  },
  {
   "cell_type": "code",
   "execution_count": 11,
   "id": "acc04b0a",
   "metadata": {},
   "outputs": [
    {
     "data": {
      "text/html": [
       "<div>\n",
       "<style scoped>\n",
       "    .dataframe tbody tr th:only-of-type {\n",
       "        vertical-align: middle;\n",
       "    }\n",
       "\n",
       "    .dataframe tbody tr th {\n",
       "        vertical-align: top;\n",
       "    }\n",
       "\n",
       "    .dataframe thead th {\n",
       "        text-align: right;\n",
       "    }\n",
       "</style>\n",
       "<table border=\"1\" class=\"dataframe\">\n",
       "  <thead>\n",
       "    <tr style=\"text-align: right;\">\n",
       "      <th></th>\n",
       "      <th>customer_id</th>\n",
       "      <th>age</th>\n",
       "      <th>gender</th>\n",
       "      <th>annual_income</th>\n",
       "      <th>purchase_frequency</th>\n",
       "      <th>average_purchase_value</th>\n",
       "      <th>churn</th>\n",
       "    </tr>\n",
       "  </thead>\n",
       "  <tbody>\n",
       "    <tr>\n",
       "      <th>0</th>\n",
       "      <td>865</td>\n",
       "      <td>42</td>\n",
       "      <td>Male</td>\n",
       "      <td>35203</td>\n",
       "      <td>4</td>\n",
       "      <td>198</td>\n",
       "      <td>0</td>\n",
       "    </tr>\n",
       "    <tr>\n",
       "      <th>1</th>\n",
       "      <td>395</td>\n",
       "      <td>63</td>\n",
       "      <td>Male</td>\n",
       "      <td>22208</td>\n",
       "      <td>3</td>\n",
       "      <td>450</td>\n",
       "      <td>0</td>\n",
       "    </tr>\n",
       "    <tr>\n",
       "      <th>2</th>\n",
       "      <td>777</td>\n",
       "      <td>21</td>\n",
       "      <td>Female</td>\n",
       "      <td>47137</td>\n",
       "      <td>2</td>\n",
       "      <td>50</td>\n",
       "      <td>0</td>\n",
       "    </tr>\n",
       "    <tr>\n",
       "      <th>3</th>\n",
       "      <td>912</td>\n",
       "      <td>40</td>\n",
       "      <td>Male</td>\n",
       "      <td>59052</td>\n",
       "      <td>7</td>\n",
       "      <td>279</td>\n",
       "      <td>1</td>\n",
       "    </tr>\n",
       "    <tr>\n",
       "      <th>4</th>\n",
       "      <td>431</td>\n",
       "      <td>39</td>\n",
       "      <td>Male</td>\n",
       "      <td>29779</td>\n",
       "      <td>8</td>\n",
       "      <td>137</td>\n",
       "      <td>0</td>\n",
       "    </tr>\n",
       "    <tr>\n",
       "      <th>...</th>\n",
       "      <td>...</td>\n",
       "      <td>...</td>\n",
       "      <td>...</td>\n",
       "      <td>...</td>\n",
       "      <td>...</td>\n",
       "      <td>...</td>\n",
       "      <td>...</td>\n",
       "    </tr>\n",
       "    <tr>\n",
       "      <th>995</th>\n",
       "      <td>220</td>\n",
       "      <td>35</td>\n",
       "      <td>Male</td>\n",
       "      <td>32764</td>\n",
       "      <td>4</td>\n",
       "      <td>383</td>\n",
       "      <td>1</td>\n",
       "    </tr>\n",
       "    <tr>\n",
       "      <th>996</th>\n",
       "      <td>684</td>\n",
       "      <td>32</td>\n",
       "      <td>Female</td>\n",
       "      <td>96806</td>\n",
       "      <td>6</td>\n",
       "      <td>458</td>\n",
       "      <td>1</td>\n",
       "    </tr>\n",
       "    <tr>\n",
       "      <th>997</th>\n",
       "      <td>962</td>\n",
       "      <td>43</td>\n",
       "      <td>Male</td>\n",
       "      <td>20530</td>\n",
       "      <td>7</td>\n",
       "      <td>99</td>\n",
       "      <td>0</td>\n",
       "    </tr>\n",
       "    <tr>\n",
       "      <th>998</th>\n",
       "      <td>345</td>\n",
       "      <td>18</td>\n",
       "      <td>Female</td>\n",
       "      <td>51245</td>\n",
       "      <td>7</td>\n",
       "      <td>258</td>\n",
       "      <td>1</td>\n",
       "    </tr>\n",
       "    <tr>\n",
       "      <th>999</th>\n",
       "      <td>251</td>\n",
       "      <td>21</td>\n",
       "      <td>Female</td>\n",
       "      <td>96654</td>\n",
       "      <td>18</td>\n",
       "      <td>451</td>\n",
       "      <td>0</td>\n",
       "    </tr>\n",
       "  </tbody>\n",
       "</table>\n",
       "<p>1000 rows × 7 columns</p>\n",
       "</div>"
      ],
      "text/plain": [
       "     customer_id  age  gender  annual_income  purchase_frequency  \\\n",
       "0            865   42    Male          35203                   4   \n",
       "1            395   63    Male          22208                   3   \n",
       "2            777   21  Female          47137                   2   \n",
       "3            912   40    Male          59052                   7   \n",
       "4            431   39    Male          29779                   8   \n",
       "..           ...  ...     ...            ...                 ...   \n",
       "995          220   35    Male          32764                   4   \n",
       "996          684   32  Female          96806                   6   \n",
       "997          962   43    Male          20530                   7   \n",
       "998          345   18  Female          51245                   7   \n",
       "999          251   21  Female          96654                  18   \n",
       "\n",
       "     average_purchase_value  churn  \n",
       "0                       198      0  \n",
       "1                       450      0  \n",
       "2                        50      0  \n",
       "3                       279      1  \n",
       "4                       137      0  \n",
       "..                      ...    ...  \n",
       "995                     383      1  \n",
       "996                     458      1  \n",
       "997                      99      0  \n",
       "998                     258      1  \n",
       "999                     451      0  \n",
       "\n",
       "[1000 rows x 7 columns]"
      ]
     },
     "execution_count": 11,
     "metadata": {},
     "output_type": "execute_result"
    }
   ],
   "source": [
    "df"
   ]
  },
  {
   "cell_type": "code",
   "execution_count": 12,
   "id": "73a79595",
   "metadata": {},
   "outputs": [
    {
     "name": "stdout",
     "output_type": "stream",
     "text": [
      "customer_id               0\n",
      "age                       0\n",
      "gender                    0\n",
      "annual_income             0\n",
      "purchase_frequency        0\n",
      "average_purchase_value    0\n",
      "churn                     0\n",
      "dtype: int64\n"
     ]
    }
   ],
   "source": [
    "# Check for missing values\n",
    "print(df.isnull().sum())\n"
   ]
  },
  {
   "cell_type": "code",
   "execution_count": 13,
   "id": "1b872f24",
   "metadata": {},
   "outputs": [
    {
     "name": "stdout",
     "output_type": "stream",
     "text": [
      "0\n"
     ]
    }
   ],
   "source": [
    "# Check for duplicates\n",
    "print(df.duplicated().sum())\n",
    "\n",
    "# Remove duplicates if any\n",
    "df.drop_duplicates(inplace=True)"
   ]
  },
  {
   "cell_type": "code",
   "execution_count": 14,
   "id": "6ed92274",
   "metadata": {},
   "outputs": [
    {
     "data": {
      "image/png": "[encoded data removed]",
      "text/plain": [
       "<Figure size 640x480 with 1 Axes>"
      ]
     },
     "metadata": {},
     "output_type": "display_data"
    },
    {
     "data": {
      "image/png": "[encoded data removed]",
      "text/plain": [
       "<Figure size 640x480 with 1 Axes>"
      ]
     },
     "metadata": {},
     "output_type": "display_data"
    }
   ],
   "source": [
    "import matplotlib.pyplot as plt\n",
    "import seaborn as sns\n",
    "\n",
    "# Distribution of churn\n",
    "sns.countplot(x='churn', data=df)\n",
    "plt.title('Churn Distribution')\n",
    "plt.show()\n",
    "\n",
    "# Age distribution\n",
    "sns.histplot(df['age'], bins=30, kde=True)\n",
    "plt.title('Age Distribution')\n",
    "plt.show()"
   ]
  },
  {
   "cell_type": "code",
   "execution_count": 15,
   "id": "179d1f88",
   "metadata": {},
   "outputs": [
    {
     "name": "stderr",
     "output_type": "stream",
     "text": [
      "C:\\Users\\laksh\\AppData\\Local\\Temp\\ipykernel_25564\\4046610217.py:3: FutureWarning: The default value of numeric_only in DataFrame.corr is deprecated. In a future version, it will default to False. Select only valid columns or specify the value of numeric_only to silence this warning.\n",
      "  sns.heatmap(df.corr(), annot=True, cmap='coolwarm')\n"
     ]
    },
    {
     "data": {
      "image/png": "[encoded data removed]",
      "text/plain": [
       "<Figure size 1000x600 with 2 Axes>"
      ]
     },
     "metadata": {},
     "output_type": "display_data"
    }
   ],
   "source": [
    "# Correlation heatmap\n",
    "plt.figure(figsize=(10, 6))\n",
    "sns.heatmap(df.corr(), annot=True, cmap='coolwarm')\n",
    "plt.title('Correlation Heatmap')\n",
    "plt.show()"
   ]
  },
  {
   "cell_type": "code",
   "execution_count": 20,
   "id": "9815ef60",
   "metadata": {},
   "outputs": [],
   "source": [
    "# Example: Create a new feature for income per purchase\n",
    "df['income_per_purchase'] = df['annual_income'] / df['purchase_frequency']\n"
   ]
  },
  {
   "cell_type": "code",
   "execution_count": 25,
   "id": "f641de45",
   "metadata": {},
   "outputs": [
    {
     "name": "stdout",
     "output_type": "stream",
     "text": [
      "     gender_Female  gender_Male\n",
      "0              0.0          1.0\n",
      "1              0.0          1.0\n",
      "2              1.0          0.0\n",
      "3              0.0          1.0\n",
      "4              0.0          1.0\n",
      "..             ...          ...\n",
      "995            0.0          1.0\n",
      "996            1.0          0.0\n",
      "997            0.0          1.0\n",
      "998            1.0          0.0\n",
      "999            1.0          0.0\n",
      "\n",
      "[1000 rows x 2 columns]\n"
     ]
    },
    {
     "name": "stderr",
     "output_type": "stream",
     "text": [
      "C:\\Users\\laksh\\anaconda3\\lib\\site-packages\\sklearn\\preprocessing\\_encoders.py:868: FutureWarning: `sparse` was renamed to `sparse_output` in version 1.2 and will be removed in 1.4. `sparse_output` is ignored unless you leave `sparse` to its default value.\n",
      "  warnings.warn(\n"
     ]
    }
   ],
   "source": [
    "import pandas as pd\n",
    "from sklearn.preprocessing import OneHotEncoder\n",
    "\n",
    "# One-hot encoding using scikit-learn\n",
    "encoder = OneHotEncoder(sparse=False)\n",
    "gender_encoded = encoder.fit_transform(df[['gender']])\n",
    "\n",
    "# Convert the result to a DataFrame for better readability\n",
    "gender_encoded_df = pd.DataFrame(gender_encoded, columns=encoder.get_feature_names_out(['gender']))\n",
    "\n",
    "# Convert the encoded values to float\n",
    "gender_encoded_df = gender_encoded_df.astype(float)\n",
    "\n",
    "print(gender_encoded_df)\n"
   ]
  },
  {
   "cell_type": "code",
   "execution_count": 27,
   "id": "7e47c7b1",
   "metadata": {},
   "outputs": [
    {
     "name": "stdout",
     "output_type": "stream",
     "text": [
      "Accuracy: 0.53\n",
      "Precision: 0.53\n",
      "Recall: 0.46\n",
      "F1 Score: 0.49\n"
     ]
    },
    {
     "name": "stderr",
     "output_type": "stream",
     "text": [
      "C:\\Users\\laksh\\anaconda3\\lib\\site-packages\\sklearn\\preprocessing\\_encoders.py:868: FutureWarning: `sparse` was renamed to `sparse_output` in version 1.2 and will be removed in 1.4. `sparse_output` is ignored unless you leave `sparse` to its default value.\n",
      "  warnings.warn(\n"
     ]
    }
   ],
   "source": [
    "import pandas as pd\n",
    "from sklearn.model_selection import train_test_split\n",
    "from sklearn.preprocessing import StandardScaler, OneHotEncoder\n",
    "from sklearn.linear_model import LogisticRegression\n",
    "from sklearn.metrics import accuracy_score, precision_score, recall_score, f1_score\n",
    "\n",
    "\n",
    "# One-hot encoding for gender column\n",
    "encoder = OneHotEncoder(sparse=False)\n",
    "gender_encoded = encoder.fit_transform(df[['gender']])\n",
    "gender_encoded_df = pd.DataFrame(gender_encoded, columns=encoder.get_feature_names_out(['gender']))\n",
    "\n",
    "# Concatenate the encoded gender columns back to the DataFrame\n",
    "df = pd.concat([df.drop('gender', axis=1), gender_encoded_df], axis=1)\n",
    "\n",
    "# Split the data into training and testing sets\n",
    "X = df.drop(['customer_id', 'churn'], axis=1)\n",
    "y = df['churn']\n",
    "X_train, X_test, y_train, y_test = train_test_split(X, y, test_size=0.2, random_state=42)\n",
    "\n",
    "# Standardize the features\n",
    "scaler = StandardScaler()\n",
    "X_train = scaler.fit_transform(X_train)\n",
    "X_test = scaler.transform(X_test)\n",
    "\n",
    "# Train a logistic regression model\n",
    "model = LogisticRegression()\n",
    "model.fit(X_train, y_train)\n",
    "\n",
    "# Make predictions\n",
    "y_pred = model.predict(X_test)\n",
    "\n",
    "# Evaluate the model\n",
    "accuracy = accuracy_score(y_test, y_pred)\n",
    "precision = precision_score(y_test, y_pred)\n",
    "recall = recall_score(y_test, y_pred)\n",
    "f1 = f1_score(y_test, y_pred)\n",
    "\n",
    "print(f'Accuracy: {accuracy:.2f}')\n",
    "print(f'Precision: {precision:.2f}')\n",
    "print(f'Recall: {recall:.2f}')\n",
    "print(f'F1 Score: {f1:.2f}')\n"
   ]
  },
  {
   "cell_type": "code",
   "execution_count": 28,
   "id": "60a139f6",
   "metadata": {},
   "outputs": [
    {
     "data": {
      "text/html": [
       "<div>\n",
       "<style scoped>\n",
       "    .dataframe tbody tr th:only-of-type {\n",
       "        vertical-align: middle;\n",
       "    }\n",
       "\n",
       "    .dataframe tbody tr th {\n",
       "        vertical-align: top;\n",
       "    }\n",
       "\n",
       "    .dataframe thead th {\n",
       "        text-align: right;\n",
       "    }\n",
       "</style>\n",
       "<table border=\"1\" class=\"dataframe\">\n",
       "  <thead>\n",
       "    <tr style=\"text-align: right;\">\n",
       "      <th></th>\n",
       "      <th>Coefficient</th>\n",
       "    </tr>\n",
       "  </thead>\n",
       "  <tbody>\n",
       "    <tr>\n",
       "      <th>age</th>\n",
       "      <td>0.085176</td>\n",
       "    </tr>\n",
       "    <tr>\n",
       "      <th>average_purchase_value</th>\n",
       "      <td>0.057045</td>\n",
       "    </tr>\n",
       "    <tr>\n",
       "      <th>gender_Female</th>\n",
       "      <td>0.025818</td>\n",
       "    </tr>\n",
       "    <tr>\n",
       "      <th>annual_income</th>\n",
       "      <td>0.022187</td>\n",
       "    </tr>\n",
       "    <tr>\n",
       "      <th>gender_Male</th>\n",
       "      <td>-0.025818</td>\n",
       "    </tr>\n",
       "    <tr>\n",
       "      <th>purchase_frequency</th>\n",
       "      <td>-0.081863</td>\n",
       "    </tr>\n",
       "    <tr>\n",
       "      <th>income_per_purchase</th>\n",
       "      <td>-0.139834</td>\n",
       "    </tr>\n",
       "  </tbody>\n",
       "</table>\n",
       "</div>"
      ],
      "text/plain": [
       "                        Coefficient\n",
       "age                        0.085176\n",
       "average_purchase_value     0.057045\n",
       "gender_Female              0.025818\n",
       "annual_income              0.022187\n",
       "gender_Male               -0.025818\n",
       "purchase_frequency        -0.081863\n",
       "income_per_purchase       -0.139834"
      ]
     },
     "execution_count": 28,
     "metadata": {},
     "output_type": "execute_result"
    }
   ],
   "source": [
    "# Example: Coefficients of the logistic regression model\n",
    "coefficients = pd.DataFrame(model.coef_[0], X.columns, columns=['Coefficient'])\n",
    "coefficients.sort_values(by='Coefficient', ascending=False)\n"
   ]
  },
  {
   "cell_type": "code",
   "execution_count": null,
   "id": "19797feb",
   "metadata": {},
   "outputs": [],
   "source": []
  }
 ],
 "metadata": {
  "kernelspec": {
   "display_name": "Python 3 (ipykernel)",
   "language": "python",
   "name": "python3"
  },
  "language_info": {
   "codemirror_mode": {
    "name": "ipython",
    "version": 3
   },
   "file_extension": ".py",
   "mimetype": "text/x-python",
   "name": "python",
   "nbconvert_exporter": "python",
   "pygments_lexer": "ipython3",
   "version": "3.10.9"
  }
 },
 "nbformat": 4,
 "nbformat_minor": 5
}
